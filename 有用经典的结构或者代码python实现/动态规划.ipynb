{
 "cells": [
  {
   "cell_type": "code",
   "execution_count": 1,
   "metadata": {
    "pycharm": {
     "is_executing": false
    },
    "scrolled": true
   },
   "outputs": [
    {
     "name": "stdout",
     "output_type": "stream",
     "text": [
      "5\n",
      "4\n",
      "3\n",
      "2\n",
      "1\n"
     ]
    }
   ],
   "source": [
    "for i in range(5,0,-1):\n",
    "    print (i)"
   ]
  },
  {
   "cell_type": "markdown",
   "metadata": {},
   "source": [
    "背包问题"
   ]
  },
  {
   "cell_type": "code",
   "execution_count": 3,
   "metadata": {},
   "outputs": [
    {
     "name": "stdout",
     "output_type": "stream",
     "text": [
      "最大值为：4000\n",
      "物品的索引： [4, 3]\n"
     ]
    }
   ],
   "source": [
    "# 这里使用了图解中的吉他，音箱，电脑，手机做的测试，数据保持一致\n",
    "w = [0, 1, 4, 3, 1]   #n个物体的重量(w[0]无用)\n",
    "p = [0, 1500, 3000, 2000, 2000]   #n个物体的价值(p[0]无用)\n",
    "n = len(w) - 1   #计算n的个数\n",
    "m = 4   #背包的载重量\n",
    "\n",
    "x = []   #装入背包的物体，元素为True时，对应物体被装入(x[0]无用)\n",
    "v = 0\n",
    "#optp[i][j]表示在前i个物体中，能够装入载重量为j的背包中的物体的最大价值\n",
    "optp = [[0 for col in range(m + 1)] for raw in range(n + 1)]\n",
    "#optp 相当于做了一个n*m的全零矩阵的赶脚，n行为物件，m列为自背包载重量\n",
    "\n",
    "def knapsack_dynamic(w, p, n, m, x):\n",
    "    #计算optp[i][j]\n",
    "    for i in range(1, n + 1):       # 物品一件件来\n",
    "        for j in range(1, m + 1):   # j为子背包的载重量，寻找能够承载物品的子背包\n",
    "            if (j >= w[i]):         # 当物品的重量小于背包能够承受的载重量的时候，才考虑能不能放进去\n",
    "                optp[i][j] = max(optp[i - 1][j], optp[i - 1][j - w[i]] + p[i])    # optp[i - 1][j]是上一个单元的值， optp[i - 1][j - w[i]]为剩余空间的价值\n",
    "            else:\n",
    "                optp[i][j] = optp[i - 1][j]\n",
    "\n",
    "    #递推装入背包的物体,寻找跳变的地方，从最后结果开始逆推\n",
    "    j = m\n",
    "    for i in range(n, 0, -1):\n",
    "        if optp[i][j] > optp[i - 1][j]:\n",
    "            x.append(i)\n",
    "            j = j - w[i]  \n",
    "\n",
    "    #返回最大价值，即表格中最后一行最后一列的值\n",
    "    v = optp[n][m]\n",
    "    return v\n",
    "\n",
    "print ('最大值为：' + str(knapsack_dynamic(w, p, n, m, x)))\n",
    "print ('物品的索引：',x)\n",
    "\n",
    "#最大值为：4000\n",
    "#物品的索引： [4, 3]\n"
   ]
  },
  {
   "cell_type": "markdown",
   "metadata": {},
   "source": [
    "CPU双核问题（背包问题变形）\n",
    "  网易笔试—动态规划: 题目的大概意思：一种双核CPU的两个核能够同时的处理任务，现在有n个已知数据量的任务需要交给CPU处理，假设已知CPU的每个核1秒可以处理1kb，每个核同时只能处理一项任务。n个任务可以按照任意顺序放入CPU进行处理，现在需要设计一个方案让CPU处理完这批任务所需的时间最少，求这个最小的时间。 "
   ]
  },
  {
   "cell_type": "code",
   "execution_count": 11,
   "metadata": {},
   "outputs": [
    {
     "data": {
      "text/plain": [
       "[0, 3, 3, 7, 3, 1]"
      ]
     },
     "execution_count": 11,
     "metadata": {},
     "output_type": "execute_result"
    }
   ],
   "source": [
    "w = [0, 3072, 3072, 7168, 3072, 1024]  # 假设进入处理的的任务大小\n",
    "w=[int(i//1024) for i in w]\n",
    "w"
   ]
  },
  {
   "cell_type": "code",
   "execution_count": 13,
   "metadata": {},
   "outputs": [
    {
     "name": "stdout",
     "output_type": "stream",
     "text": [
      "9\n",
      "[[0, 0, 0, 0, 0, 0, 0, 0, 0, 0], [0, 0, 0, 3, 3, 3, 3, 3, 3, 3], [0, 0, 0, 3, 3, 3, 6, 6, 6, 6], [0, 0, 0, 3, 3, 3, 6, 7, 7, 7], [0, 0, 0, 3, 3, 3, 6, 7, 7, 9], [0, 1, 1, 3, 4, 4, 6, 7, 8, 9]]\n"
     ]
    }
   ],
   "source": [
    "\n",
    "p = w  # 这题的价值和任务重量一致\n",
    "n = sum(w)//2 +1 # 背包承重为总任务的一半\n",
    "\n",
    "optp = [[0 for j in range(n+1)] for i in range(len(w))]\n",
    "\n",
    "for i in range(1,len(p)):\n",
    "    for j in range(1,n+1):\n",
    "        if j >= p[i]:\n",
    "            optp[i][j] = max(optp[i-1][j],p[i]+optp[i-1][j-w[i]])\n",
    "        else:\n",
    "            optp[i][j] = optp[i-1][j]\n",
    "\n",
    "\n",
    "print (optp[-1][-1])\n",
    "print (optp)\n"
   ]
  },
  {
   "cell_type": "markdown",
   "metadata": {},
   "source": [
    "# 如果我们有面值为 1 元、3 元和 5 元的硬币若干枚，如何用最少的硬币凑够 11 元？"
   ]
  },
  {
   "cell_type": "code",
   "execution_count": 14,
   "metadata": {},
   "outputs": [
    {
     "name": "stdout",
     "output_type": "stream",
     "text": [
      "[1, 2, 1, 2, 1, 2, 3, 2, 3, 2, 3]\n"
     ]
    }
   ],
   "source": [
    "def count_min():\n",
    "    \n",
    "    Min = [x for x in range(12)];\n",
    "    VN = [1, 3, 5];\n",
    "    for i in range(1, 12, 1):\n",
    "        for j in range(3):\n",
    "            if VN[j] <= i and Min[i - VN[j]] + 1 < Min[i]:\n",
    "                Min[i] = Min[i - VN[j]] + 1;\n",
    "    print(Min[1::1]);\n",
    "count_min()"
   ]
  },
  {
   "cell_type": "markdown",
   "metadata": {},
   "source": [
    "LIS最长升序子序列"
   ]
  },
  {
   "cell_type": "code",
   "execution_count": 27,
   "metadata": {},
   "outputs": [
    {
     "name": "stdout",
     "output_type": "stream",
     "text": [
      "2\n"
     ]
    }
   ],
   "source": [
    "# 讲DP基本都会讲到的一个问题LIS：longest increasing subsequence\n",
    "# http://www.deeplearn.me/216.html\n",
    "lis = [5, 3, 4]\n",
    "\n",
    "d = [1]*len(lis)\n",
    "res = 1\n",
    "for i in range(len(lis)):\n",
    "    for j in range(i):\n",
    "        if lis[j] <= lis[i] and d[i] < d[j]+1:\n",
    "            d[i] = d[j]+1\n",
    "    if d[i] >  res:\n",
    "        res = d[i]\n",
    "print (res)\n"
   ]
  },
  {
   "cell_type": "code",
   "execution_count": 21,
   "metadata": {},
   "outputs": [
    {
     "data": {
      "text/plain": [
       "[1, 1, 2, 2, 3, 3, 4]"
      ]
     },
     "execution_count": 21,
     "metadata": {},
     "output_type": "execute_result"
    }
   ],
   "source": [
    "d"
   ]
  },
  {
   "cell_type": "markdown",
   "metadata": {},
   "source": [
    "LCS问题最长公共子序列"
   ]
  },
  {
   "cell_type": "code",
   "execution_count": null,
   "metadata": {},
   "outputs": [],
   "source": []
  }
 ],
 "metadata": {
  "kernelspec": {
   "display_name": "Python 3",
   "language": "python",
   "name": "python3"
  },
  "language_info": {
   "codemirror_mode": {
    "name": "ipython",
    "version": 3
   },
   "file_extension": ".py",
   "mimetype": "text/x-python",
   "name": "python",
   "nbconvert_exporter": "python",
   "pygments_lexer": "ipython3",
   "version": "3.7.4"
  }
 },
 "nbformat": 4,
 "nbformat_minor": 1
}
